# QuantInvest Live Demo - Goldman Sachs Ready 🚀
# Run this notebook to test the deployed QuantInvest API.

import requests
import pandas as pd

BASE_URL = "https://quant-invest-awub.onrender.com"

# ✅ 1) CHECK IF API IS LIVE
print("✅ Checking if API is live...")
r = requests.get(f"{BASE_URL}/")
print(r.json())

# 🔮 2) PREDICT NEXT PRICE FOR AAPL
print("\n🔮 Predicting next price for AAPL...")
r = requests.get(f"{BASE_URL}/predict?ticker=AAPL")
print("Prediction Response:", r.json())

# 📊 3) RUN PORTFOLIO OPTIMIZATION
print("\n📊 Running portfolio optimization...")
tickers = ["AAPL", "MSFT", "GOOGL", "AMZN", "TSLA", "NVDA"]
r = requests.get(f"{BASE_URL}/optimize?tickers={','.join(tickers)}")
data = r.json()

# Show optimal allocation in a clean table
alloc_df = pd.DataFrame(list(data["allocation"].items()), columns=["Ticker", "Allocation (%)"])
print("\nOptimal Portfolio Allocation:")
print(alloc_df)

print(f"\nExpected Annual Return: {data['expected_return']:.2f}")
print(f"Annual Volatility: {data['volatility']:.2f}")
print(f"Sharpe Ratio: {data['sharpe_ratio']:.2f}")
